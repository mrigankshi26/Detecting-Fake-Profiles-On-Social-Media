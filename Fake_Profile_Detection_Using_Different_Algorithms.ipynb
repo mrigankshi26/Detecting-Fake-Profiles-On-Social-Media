{
  "nbformat": 4,
  "nbformat_minor": 0,
  "metadata": {
    "kernelspec": {
      "display_name": "Python 3",
      "language": "python",
      "name": "python3"
    },
    "language_info": {
      "codemirror_mode": {
        "name": "ipython",
        "version": 3
      },
      "file_extension": ".py",
      "mimetype": "text/x-python",
      "name": "python",
      "nbconvert_exporter": "python",
      "pygments_lexer": "ipython3",
      "version": "3.7.4"
    },
    "colab": {
      "name": "Fake Profile Detection Using Different Algorithms.ipynb",
      "provenance": [],
      "collapsed_sections": []
    }
  },
  "cells": [
    {
      "cell_type": "markdown",
      "metadata": {
        "id": "JFbNVWIt8Kxl"
      },
      "source": [
        "# Import Libraries"
      ]
    },
    {
      "cell_type": "code",
      "source": [
        "from google.colab import drive\n",
        "drive.mount('/content/drive')"
      ],
      "metadata": {
        "id": "Dc8yNp4eNGrU",
        "colab": {
          "base_uri": "https://localhost:8080/"
        },
        "outputId": "771815ec-304c-45d3-907b-b732fd41ea1b"
      },
      "execution_count": 5,
      "outputs": [
        {
          "output_type": "stream",
          "name": "stdout",
          "text": [
            "Drive already mounted at /content/drive; to attempt to forcibly remount, call drive.mount(\"/content/drive\", force_remount=True).\n"
          ]
        }
      ]
    },
    {
      "cell_type": "code",
      "metadata": {
        "id": "TvWkYRW1Mz-e"
      },
      "source": [
        "import pandas as pd\n",
        "import numpy as np\n",
        "import matplotlib.pyplot as plt\n",
        "import pandas_profiling as pp\n",
        "import keras as k"
      ],
      "execution_count": 6,
      "outputs": []
    },
    {
      "cell_type": "code",
      "metadata": {
        "id": "A7GbErLXMz-s"
      },
      "source": [
        "import warnings\n",
        "warnings.filterwarnings(\"ignore\")"
      ],
      "execution_count": 7,
      "outputs": []
    },
    {
      "cell_type": "code",
      "metadata": {
        "id": "P_KYwwhuMz-4"
      },
      "source": [
        "df_users = pd.read_csv(\"/content/drive/MyDrive/users.csv\")\n",
        "df_fusers = pd.read_csv(\"/content/drive/MyDrive/fusers.csv\")"
      ],
      "execution_count": 8,
      "outputs": []
    },
    {
      "cell_type": "code",
      "metadata": {
        "id": "46SgZqU2Mz_A",
        "colab": {
          "base_uri": "https://localhost:8080/"
        },
        "outputId": "5971c7c2-8190-4535-857e-94b5c8c86b44"
      },
      "source": [
        "print(df_fusers.shape)\n",
        "print(df_users.shape)"
      ],
      "execution_count": 9,
      "outputs": [
        {
          "output_type": "stream",
          "name": "stdout",
          "text": [
            "(3351, 38)\n",
            "(3474, 42)\n"
          ]
        }
      ]
    },
    {
      "cell_type": "markdown",
      "metadata": {
        "id": "0TRypCg98hns"
      },
      "source": [
        "# Data Pre-Processing"
      ]
    },
    {
      "cell_type": "code",
      "metadata": {
        "id": "nNpdHNU5Mz_J",
        "colab": {
          "base_uri": "https://localhost:8080/"
        },
        "outputId": "6b56db4a-e75f-411e-e643-fc2bc3a79b70"
      },
      "source": [
        "df_fusers.isnull().sum()"
      ],
      "execution_count": 10,
      "outputs": [
        {
          "output_type": "execute_result",
          "data": {
            "text/plain": [
              "id                                       0\n",
              "name                                     0\n",
              "screen_name                              0\n",
              "statuses_count                           0\n",
              "followers_count                          0\n",
              "friends_count                            0\n",
              "favourites_count                         0\n",
              "listed_count                             0\n",
              "created_at                               0\n",
              "url                                   3250\n",
              "lang                                     0\n",
              "time_zone                             3016\n",
              "location                               575\n",
              "default_profile                        317\n",
              "default_profile_image                 3345\n",
              "geo_enabled                           3212\n",
              "profile_image_url                        0\n",
              "profile_banner_url                    3284\n",
              "profile_use_background_image             9\n",
              "profile_background_image_url_https       0\n",
              "profile_text_color                       0\n",
              "profile_image_url_https                  0\n",
              "profile_sidebar_border_color             0\n",
              "profile_background_tile               3181\n",
              "profile_sidebar_fill_color               0\n",
              "profile_background_image_url             0\n",
              "profile_background_color                 0\n",
              "profile_link_color                       0\n",
              "utc_offset                            3016\n",
              "is_translator                         3351\n",
              "follow_request_sent                   3351\n",
              "protected                             3351\n",
              "verified                              3351\n",
              "notifications                         3351\n",
              "description                           1073\n",
              "contributors_enabled                  3351\n",
              "following                             3351\n",
              "updated                                  0\n",
              "dtype: int64"
            ]
          },
          "metadata": {},
          "execution_count": 10
        }
      ]
    },
    {
      "cell_type": "code",
      "metadata": {
        "id": "5ui7KJYmMz_R"
      },
      "source": [
        "#for df_fusers\n",
        "isFake = np.ones(3351)\n",
        "\n",
        "#for df_users\n",
        "isNotFake = np.zeros(3474)"
      ],
      "execution_count": 11,
      "outputs": []
    },
    {
      "cell_type": "code",
      "metadata": {
        "id": "JR0dz6E8Mz_Z"
      },
      "source": [
        "#adding is fake or not column to make predictions for it\n",
        "df_fusers[\"isFake\"] = isFake\n",
        "df_users[\"isFake\"] = isNotFake\n"
      ],
      "execution_count": 12,
      "outputs": []
    },
    {
      "cell_type": "code",
      "metadata": {
        "id": "gAnaG6O9Mz_f"
      },
      "source": [
        "df_allUsers = pd.concat([df_fusers, df_users], ignore_index=True)\n",
        "df_allUsers.columns = df_allUsers.columns.str.strip()"
      ],
      "execution_count": 13,
      "outputs": []
    },
    {
      "cell_type": "code",
      "metadata": {
        "id": "CY8NtgrIMz_m"
      },
      "source": [
        "#to shuffle the whole data\n",
        "df_allUsers = df_allUsers.sample(frac=1).reset_index(drop=True)"
      ],
      "execution_count": 14,
      "outputs": []
    },
    {
      "cell_type": "code",
      "metadata": {
        "id": "6nwv7e-SMz_r",
        "colab": {
          "base_uri": "https://localhost:8080/",
          "height": 394
        },
        "outputId": "123c2e8d-fac8-4e7f-8485-c831f90a60e7"
      },
      "source": [
        "df_allUsers.describe()"
      ],
      "execution_count": 15,
      "outputs": [
        {
          "output_type": "execute_result",
          "data": {
            "text/plain": [
              "                 id  statuses_count  followers_count  friends_count  \\\n",
              "count  6.825000e+03     6825.000000      6825.000000    6825.000000   \n",
              "mean   8.499737e+08     8667.221685       717.874432     504.022564   \n",
              "std    7.662248e+08    23473.945131     12301.657025    1159.286294   \n",
              "min    6.780330e+05        0.000000         0.000000       0.000000   \n",
              "25%    2.597067e+08       23.000000        12.000000     206.000000   \n",
              "50%    6.168972e+08      190.000000        33.000000     312.000000   \n",
              "75%    1.174963e+09     6900.000000       349.000000     555.000000   \n",
              "max    3.164942e+09   399555.000000    986837.000000   46310.000000   \n",
              "\n",
              "       favourites_count  listed_count  default_profile  default_profile_image  \\\n",
              "count       6825.000000   6825.000000           4066.0                   19.0   \n",
              "mean        2378.999121      9.959853              1.0                    1.0   \n",
              "std         8548.235726    112.952257              0.0                    0.0   \n",
              "min            0.000000      0.000000              1.0                    1.0   \n",
              "25%            0.000000      0.000000              1.0                    1.0   \n",
              "50%           10.000000      0.000000              1.0                    1.0   \n",
              "75%         1360.000000      2.000000              1.0                    1.0   \n",
              "max       313954.000000   6166.000000              1.0                    1.0   \n",
              "\n",
              "       geo_enabled  profile_use_background_image  ...  is_translator  \\\n",
              "count       2294.0                        6426.0  ...            1.0   \n",
              "mean           1.0                           1.0  ...            1.0   \n",
              "std            0.0                           0.0  ...            NaN   \n",
              "min            1.0                           1.0  ...            1.0   \n",
              "25%            1.0                           1.0  ...            1.0   \n",
              "50%            1.0                           1.0  ...            1.0   \n",
              "75%            1.0                           1.0  ...            1.0   \n",
              "max            1.0                           1.0  ...            1.0   \n",
              "\n",
              "       follow_request_sent  protected  verified  notifications  \\\n",
              "count                  0.0       78.0      11.0            0.0   \n",
              "mean                   NaN        1.0       1.0            NaN   \n",
              "std                    NaN        0.0       0.0            NaN   \n",
              "min                    NaN        1.0       1.0            NaN   \n",
              "25%                    NaN        1.0       1.0            NaN   \n",
              "50%                    NaN        1.0       1.0            NaN   \n",
              "75%                    NaN        1.0       1.0            NaN   \n",
              "max                    NaN        1.0       1.0            NaN   \n",
              "\n",
              "       contributors_enabled  following       isFake   test_set_1   test_set_2  \n",
              "count                   0.0        0.0  6825.000000  3474.000000  3474.000000  \n",
              "mean                    NaN        NaN     0.490989     0.287853     0.141048  \n",
              "std                     NaN        NaN     0.499955     0.452827     0.348121  \n",
              "min                     NaN        NaN     0.000000     0.000000     0.000000  \n",
              "25%                     NaN        NaN     0.000000     0.000000     0.000000  \n",
              "50%                     NaN        NaN     0.000000     0.000000     0.000000  \n",
              "75%                     NaN        NaN     1.000000     1.000000     0.000000  \n",
              "max                     NaN        NaN     1.000000     1.000000     1.000000  \n",
              "\n",
              "[8 rows x 22 columns]"
            ],
            "text/html": [
              "\n",
              "  <div id=\"df-414b13cd-072b-4945-9ed0-83a305300df9\">\n",
              "    <div class=\"colab-df-container\">\n",
              "      <div>\n",
              "<style scoped>\n",
              "    .dataframe tbody tr th:only-of-type {\n",
              "        vertical-align: middle;\n",
              "    }\n",
              "\n",
              "    .dataframe tbody tr th {\n",
              "        vertical-align: top;\n",
              "    }\n",
              "\n",
              "    .dataframe thead th {\n",
              "        text-align: right;\n",
              "    }\n",
              "</style>\n",
              "<table border=\"1\" class=\"dataframe\">\n",
              "  <thead>\n",
              "    <tr style=\"text-align: right;\">\n",
              "      <th></th>\n",
              "      <th>id</th>\n",
              "      <th>statuses_count</th>\n",
              "      <th>followers_count</th>\n",
              "      <th>friends_count</th>\n",
              "      <th>favourites_count</th>\n",
              "      <th>listed_count</th>\n",
              "      <th>default_profile</th>\n",
              "      <th>default_profile_image</th>\n",
              "      <th>geo_enabled</th>\n",
              "      <th>profile_use_background_image</th>\n",
              "      <th>...</th>\n",
              "      <th>is_translator</th>\n",
              "      <th>follow_request_sent</th>\n",
              "      <th>protected</th>\n",
              "      <th>verified</th>\n",
              "      <th>notifications</th>\n",
              "      <th>contributors_enabled</th>\n",
              "      <th>following</th>\n",
              "      <th>isFake</th>\n",
              "      <th>test_set_1</th>\n",
              "      <th>test_set_2</th>\n",
              "    </tr>\n",
              "  </thead>\n",
              "  <tbody>\n",
              "    <tr>\n",
              "      <th>count</th>\n",
              "      <td>6.825000e+03</td>\n",
              "      <td>6825.000000</td>\n",
              "      <td>6825.000000</td>\n",
              "      <td>6825.000000</td>\n",
              "      <td>6825.000000</td>\n",
              "      <td>6825.000000</td>\n",
              "      <td>4066.0</td>\n",
              "      <td>19.0</td>\n",
              "      <td>2294.0</td>\n",
              "      <td>6426.0</td>\n",
              "      <td>...</td>\n",
              "      <td>1.0</td>\n",
              "      <td>0.0</td>\n",
              "      <td>78.0</td>\n",
              "      <td>11.0</td>\n",
              "      <td>0.0</td>\n",
              "      <td>0.0</td>\n",
              "      <td>0.0</td>\n",
              "      <td>6825.000000</td>\n",
              "      <td>3474.000000</td>\n",
              "      <td>3474.000000</td>\n",
              "    </tr>\n",
              "    <tr>\n",
              "      <th>mean</th>\n",
              "      <td>8.499737e+08</td>\n",
              "      <td>8667.221685</td>\n",
              "      <td>717.874432</td>\n",
              "      <td>504.022564</td>\n",
              "      <td>2378.999121</td>\n",
              "      <td>9.959853</td>\n",
              "      <td>1.0</td>\n",
              "      <td>1.0</td>\n",
              "      <td>1.0</td>\n",
              "      <td>1.0</td>\n",
              "      <td>...</td>\n",
              "      <td>1.0</td>\n",
              "      <td>NaN</td>\n",
              "      <td>1.0</td>\n",
              "      <td>1.0</td>\n",
              "      <td>NaN</td>\n",
              "      <td>NaN</td>\n",
              "      <td>NaN</td>\n",
              "      <td>0.490989</td>\n",
              "      <td>0.287853</td>\n",
              "      <td>0.141048</td>\n",
              "    </tr>\n",
              "    <tr>\n",
              "      <th>std</th>\n",
              "      <td>7.662248e+08</td>\n",
              "      <td>23473.945131</td>\n",
              "      <td>12301.657025</td>\n",
              "      <td>1159.286294</td>\n",
              "      <td>8548.235726</td>\n",
              "      <td>112.952257</td>\n",
              "      <td>0.0</td>\n",
              "      <td>0.0</td>\n",
              "      <td>0.0</td>\n",
              "      <td>0.0</td>\n",
              "      <td>...</td>\n",
              "      <td>NaN</td>\n",
              "      <td>NaN</td>\n",
              "      <td>0.0</td>\n",
              "      <td>0.0</td>\n",
              "      <td>NaN</td>\n",
              "      <td>NaN</td>\n",
              "      <td>NaN</td>\n",
              "      <td>0.499955</td>\n",
              "      <td>0.452827</td>\n",
              "      <td>0.348121</td>\n",
              "    </tr>\n",
              "    <tr>\n",
              "      <th>min</th>\n",
              "      <td>6.780330e+05</td>\n",
              "      <td>0.000000</td>\n",
              "      <td>0.000000</td>\n",
              "      <td>0.000000</td>\n",
              "      <td>0.000000</td>\n",
              "      <td>0.000000</td>\n",
              "      <td>1.0</td>\n",
              "      <td>1.0</td>\n",
              "      <td>1.0</td>\n",
              "      <td>1.0</td>\n",
              "      <td>...</td>\n",
              "      <td>1.0</td>\n",
              "      <td>NaN</td>\n",
              "      <td>1.0</td>\n",
              "      <td>1.0</td>\n",
              "      <td>NaN</td>\n",
              "      <td>NaN</td>\n",
              "      <td>NaN</td>\n",
              "      <td>0.000000</td>\n",
              "      <td>0.000000</td>\n",
              "      <td>0.000000</td>\n",
              "    </tr>\n",
              "    <tr>\n",
              "      <th>25%</th>\n",
              "      <td>2.597067e+08</td>\n",
              "      <td>23.000000</td>\n",
              "      <td>12.000000</td>\n",
              "      <td>206.000000</td>\n",
              "      <td>0.000000</td>\n",
              "      <td>0.000000</td>\n",
              "      <td>1.0</td>\n",
              "      <td>1.0</td>\n",
              "      <td>1.0</td>\n",
              "      <td>1.0</td>\n",
              "      <td>...</td>\n",
              "      <td>1.0</td>\n",
              "      <td>NaN</td>\n",
              "      <td>1.0</td>\n",
              "      <td>1.0</td>\n",
              "      <td>NaN</td>\n",
              "      <td>NaN</td>\n",
              "      <td>NaN</td>\n",
              "      <td>0.000000</td>\n",
              "      <td>0.000000</td>\n",
              "      <td>0.000000</td>\n",
              "    </tr>\n",
              "    <tr>\n",
              "      <th>50%</th>\n",
              "      <td>6.168972e+08</td>\n",
              "      <td>190.000000</td>\n",
              "      <td>33.000000</td>\n",
              "      <td>312.000000</td>\n",
              "      <td>10.000000</td>\n",
              "      <td>0.000000</td>\n",
              "      <td>1.0</td>\n",
              "      <td>1.0</td>\n",
              "      <td>1.0</td>\n",
              "      <td>1.0</td>\n",
              "      <td>...</td>\n",
              "      <td>1.0</td>\n",
              "      <td>NaN</td>\n",
              "      <td>1.0</td>\n",
              "      <td>1.0</td>\n",
              "      <td>NaN</td>\n",
              "      <td>NaN</td>\n",
              "      <td>NaN</td>\n",
              "      <td>0.000000</td>\n",
              "      <td>0.000000</td>\n",
              "      <td>0.000000</td>\n",
              "    </tr>\n",
              "    <tr>\n",
              "      <th>75%</th>\n",
              "      <td>1.174963e+09</td>\n",
              "      <td>6900.000000</td>\n",
              "      <td>349.000000</td>\n",
              "      <td>555.000000</td>\n",
              "      <td>1360.000000</td>\n",
              "      <td>2.000000</td>\n",
              "      <td>1.0</td>\n",
              "      <td>1.0</td>\n",
              "      <td>1.0</td>\n",
              "      <td>1.0</td>\n",
              "      <td>...</td>\n",
              "      <td>1.0</td>\n",
              "      <td>NaN</td>\n",
              "      <td>1.0</td>\n",
              "      <td>1.0</td>\n",
              "      <td>NaN</td>\n",
              "      <td>NaN</td>\n",
              "      <td>NaN</td>\n",
              "      <td>1.000000</td>\n",
              "      <td>1.000000</td>\n",
              "      <td>0.000000</td>\n",
              "    </tr>\n",
              "    <tr>\n",
              "      <th>max</th>\n",
              "      <td>3.164942e+09</td>\n",
              "      <td>399555.000000</td>\n",
              "      <td>986837.000000</td>\n",
              "      <td>46310.000000</td>\n",
              "      <td>313954.000000</td>\n",
              "      <td>6166.000000</td>\n",
              "      <td>1.0</td>\n",
              "      <td>1.0</td>\n",
              "      <td>1.0</td>\n",
              "      <td>1.0</td>\n",
              "      <td>...</td>\n",
              "      <td>1.0</td>\n",
              "      <td>NaN</td>\n",
              "      <td>1.0</td>\n",
              "      <td>1.0</td>\n",
              "      <td>NaN</td>\n",
              "      <td>NaN</td>\n",
              "      <td>NaN</td>\n",
              "      <td>1.000000</td>\n",
              "      <td>1.000000</td>\n",
              "      <td>1.000000</td>\n",
              "    </tr>\n",
              "  </tbody>\n",
              "</table>\n",
              "<p>8 rows × 22 columns</p>\n",
              "</div>\n",
              "      <button class=\"colab-df-convert\" onclick=\"convertToInteractive('df-414b13cd-072b-4945-9ed0-83a305300df9')\"\n",
              "              title=\"Convert this dataframe to an interactive table.\"\n",
              "              style=\"display:none;\">\n",
              "        \n",
              "  <svg xmlns=\"http://www.w3.org/2000/svg\" height=\"24px\"viewBox=\"0 0 24 24\"\n",
              "       width=\"24px\">\n",
              "    <path d=\"M0 0h24v24H0V0z\" fill=\"none\"/>\n",
              "    <path d=\"M18.56 5.44l.94 2.06.94-2.06 2.06-.94-2.06-.94-.94-2.06-.94 2.06-2.06.94zm-11 1L8.5 8.5l.94-2.06 2.06-.94-2.06-.94L8.5 2.5l-.94 2.06-2.06.94zm10 10l.94 2.06.94-2.06 2.06-.94-2.06-.94-.94-2.06-.94 2.06-2.06.94z\"/><path d=\"M17.41 7.96l-1.37-1.37c-.4-.4-.92-.59-1.43-.59-.52 0-1.04.2-1.43.59L10.3 9.45l-7.72 7.72c-.78.78-.78 2.05 0 2.83L4 21.41c.39.39.9.59 1.41.59.51 0 1.02-.2 1.41-.59l7.78-7.78 2.81-2.81c.8-.78.8-2.07 0-2.86zM5.41 20L4 18.59l7.72-7.72 1.47 1.35L5.41 20z\"/>\n",
              "  </svg>\n",
              "      </button>\n",
              "      \n",
              "  <style>\n",
              "    .colab-df-container {\n",
              "      display:flex;\n",
              "      flex-wrap:wrap;\n",
              "      gap: 12px;\n",
              "    }\n",
              "\n",
              "    .colab-df-convert {\n",
              "      background-color: #E8F0FE;\n",
              "      border: none;\n",
              "      border-radius: 50%;\n",
              "      cursor: pointer;\n",
              "      display: none;\n",
              "      fill: #1967D2;\n",
              "      height: 32px;\n",
              "      padding: 0 0 0 0;\n",
              "      width: 32px;\n",
              "    }\n",
              "\n",
              "    .colab-df-convert:hover {\n",
              "      background-color: #E2EBFA;\n",
              "      box-shadow: 0px 1px 2px rgba(60, 64, 67, 0.3), 0px 1px 3px 1px rgba(60, 64, 67, 0.15);\n",
              "      fill: #174EA6;\n",
              "    }\n",
              "\n",
              "    [theme=dark] .colab-df-convert {\n",
              "      background-color: #3B4455;\n",
              "      fill: #D2E3FC;\n",
              "    }\n",
              "\n",
              "    [theme=dark] .colab-df-convert:hover {\n",
              "      background-color: #434B5C;\n",
              "      box-shadow: 0px 1px 3px 1px rgba(0, 0, 0, 0.15);\n",
              "      filter: drop-shadow(0px 1px 2px rgba(0, 0, 0, 0.3));\n",
              "      fill: #FFFFFF;\n",
              "    }\n",
              "  </style>\n",
              "\n",
              "      <script>\n",
              "        const buttonEl =\n",
              "          document.querySelector('#df-414b13cd-072b-4945-9ed0-83a305300df9 button.colab-df-convert');\n",
              "        buttonEl.style.display =\n",
              "          google.colab.kernel.accessAllowed ? 'block' : 'none';\n",
              "\n",
              "        async function convertToInteractive(key) {\n",
              "          const element = document.querySelector('#df-414b13cd-072b-4945-9ed0-83a305300df9');\n",
              "          const dataTable =\n",
              "            await google.colab.kernel.invokeFunction('convertToInteractive',\n",
              "                                                     [key], {});\n",
              "          if (!dataTable) return;\n",
              "\n",
              "          const docLinkHtml = 'Like what you see? Visit the ' +\n",
              "            '<a target=\"_blank\" href=https://colab.research.google.com/notebooks/data_table.ipynb>data table notebook</a>'\n",
              "            + ' to learn more about interactive tables.';\n",
              "          element.innerHTML = '';\n",
              "          dataTable['output_type'] = 'display_data';\n",
              "          await google.colab.output.renderOutput(dataTable, element);\n",
              "          const docLink = document.createElement('div');\n",
              "          docLink.innerHTML = docLinkHtml;\n",
              "          element.appendChild(docLink);\n",
              "        }\n",
              "      </script>\n",
              "    </div>\n",
              "  </div>\n",
              "  "
            ]
          },
          "metadata": {},
          "execution_count": 15
        }
      ]
    },
    {
      "cell_type": "code",
      "metadata": {
        "scrolled": true,
        "id": "Y6uopmZnMz_y",
        "colab": {
          "base_uri": "https://localhost:8080/"
        },
        "outputId": "1dd22c01-9b90-48aa-c8f1-41c990f73325"
      },
      "source": [
        "df_allUsers.head"
      ],
      "execution_count": 16,
      "outputs": [
        {
          "output_type": "execute_result",
          "data": {
            "text/plain": [
              "<bound method NDFrame.head of               id             name      screen_name  statuses_count  \\\n",
              "0     1361191681             Kath      callmekhay_           52158   \n",
              "1      311104404  Maria Cristina   MariaCristin125              38   \n",
              "2       83390456    Lorraine Daly    Lorraine_Daly            4596   \n",
              "3      595827319      Pat Pilcher   Iminwellington           24586   \n",
              "4       39220893            Sam P     booleanvalue           11688   \n",
              "...          ...              ...              ...             ...   \n",
              "6820  1176062197    Kimbery Shore  ShoreltdKimbery              24   \n",
              "6821   400939896            PILCH    oliverpilcher            2007   \n",
              "6822   616213459   Shad Schroeder  shadschroedernj              60   \n",
              "6823   327248460             Bels          belperi           13234   \n",
              "6824   616620118     Heike Cotton         heikelyc              38   \n",
              "\n",
              "      followers_count  friends_count  favourites_count  listed_count  \\\n",
              "0                1166            893              9429             1   \n",
              "1                   8            421                 1             0   \n",
              "2                 325            180              2791             3   \n",
              "3                1201           1679               265            24   \n",
              "4                1201           1191               351            61   \n",
              "...               ...            ...               ...           ...   \n",
              "6820                5            213                 0             0   \n",
              "6821              168            133              1203             0   \n",
              "6822               12            572                 0             0   \n",
              "6823              590            585             16745            18   \n",
              "6824               18            364                 0             0   \n",
              "\n",
              "                          created_at                     url  ...  \\\n",
              "0     Thu Apr 18 06:22:28 +0000 2013  http://t.co/KXxNkBBO4j  ...   \n",
              "1     Sat Jun 04 22:18:02 +0000 2011                     NaN  ...   \n",
              "2     Sun Oct 18 16:11:08 +0000 2009                     NaN  ...   \n",
              "3     Thu May 31 21:01:53 +0000 2012                     NaN  ...   \n",
              "4     Mon May 11 09:14:56 +0000 2009  http://t.co/iQ0rVw2115  ...   \n",
              "...                              ...                     ...  ...   \n",
              "6820  Wed Feb 13 16:51:02 +0000 2013                     NaN  ...   \n",
              "6821  Sat Oct 29 20:16:01 +0000 2011                     NaN  ...   \n",
              "6822  Sat Jun 23 15:35:37 +0000 2012                     NaN  ...   \n",
              "6823  Fri Jul 01 07:22:06 +0000 2011                     NaN  ...   \n",
              "6824  Sun Jun 24 00:47:12 +0000 2012                     NaN  ...   \n",
              "\n",
              "     notifications                                        description  \\\n",
              "0              NaN                                                NaN   \n",
              "1              NaN                                                NaN   \n",
              "2              NaN  Dare to soar - how successful you are is deter...   \n",
              "3              NaN  Twit who likes to tweet. Writes about tech and...   \n",
              "4              NaN  Enspiralite, Open Sourcerer, Social Engineer, ...   \n",
              "...            ...                                                ...   \n",
              "6820           NaN             Don't youjut love this kind of people?   \n",
              "6821           NaN  #mgslalala #downswoodmassive #pray4grindle #fi...   \n",
              "6822           NaN                                                NaN   \n",
              "6823           NaN  An all rounder (mum, wife, daughter, friend, n...   \n",
              "6824           NaN                                                NaN   \n",
              "\n",
              "     contributors_enabled  following              updated  isFake  \\\n",
              "0                     NaN        NaN  2016-03-15 16:03:23     0.0   \n",
              "1                     NaN        NaN  2013-06-11 17:39:44     1.0   \n",
              "2                     NaN        NaN  2016-03-15 15:58:21     0.0   \n",
              "3                     NaN        NaN  2016-03-15 15:57:02     0.0   \n",
              "4                     NaN        NaN  2016-03-15 16:03:11     0.0   \n",
              "...                   ...        ...                  ...     ...   \n",
              "6820                  NaN        NaN  2013-06-12 18:38:26     1.0   \n",
              "6821                  NaN        NaN  2016-03-15 16:08:30     0.0   \n",
              "6822                  NaN        NaN  2013-06-12 18:38:26     1.0   \n",
              "6823                  NaN        NaN  2016-03-15 16:03:01     0.0   \n",
              "6824                  NaN        NaN  2013-06-12 18:38:35     1.0   \n",
              "\n",
              "                timestamp           crawled_at  test_set_1 test_set_2  \n",
              "0     2013-04-18 08:22:28  2015-05-02 04:08:02         1.0        0.0  \n",
              "1                     NaN                  NaN         NaN        NaN  \n",
              "2     2009-10-18 18:11:08  2015-05-02 02:45:01         1.0        1.0  \n",
              "3     2012-05-31 23:01:53  2015-05-01 15:56:40         0.0        0.0  \n",
              "4     2009-05-11 11:14:56  2015-05-01 17:37:56         1.0        0.0  \n",
              "...                   ...                  ...         ...        ...  \n",
              "6820                  NaN                  NaN         NaN        NaN  \n",
              "6821  2011-10-29 22:16:01  2015-05-02 04:58:27         1.0        1.0  \n",
              "6822                  NaN                  NaN         NaN        NaN  \n",
              "6823  2011-07-01 09:22:06  2015-05-01 21:46:23         0.0        0.0  \n",
              "6824                  NaN                  NaN         NaN        NaN  \n",
              "\n",
              "[6825 rows x 43 columns]>"
            ]
          },
          "metadata": {},
          "execution_count": 16
        }
      ]
    },
    {
      "cell_type": "code",
      "metadata": {
        "id": "YKwNJd4yMz_6"
      },
      "source": [
        "Y = df_allUsers.isFake"
      ],
      "execution_count": 17,
      "outputs": []
    },
    {
      "cell_type": "code",
      "metadata": {
        "id": "IvIa-Gf4M0AB",
        "colab": {
          "base_uri": "https://localhost:8080/"
        },
        "outputId": "82460117-365b-4bd0-ef11-a00dc2a11d6f"
      },
      "source": [
        "Y.head(6)"
      ],
      "execution_count": 56,
      "outputs": [
        {
          "output_type": "execute_result",
          "data": {
            "text/plain": [
              "0    0.0\n",
              "1    1.0\n",
              "2    0.0\n",
              "3    0.0\n",
              "4    0.0\n",
              "5    1.0\n",
              "Name: isFake, dtype: float64"
            ]
          },
          "metadata": {},
          "execution_count": 56
        }
      ]
    },
    {
      "cell_type": "code",
      "metadata": {
        "id": "W18epijrM0AJ",
        "colab": {
          "base_uri": "https://localhost:8080/"
        },
        "outputId": "b2bcad99-b720-436a-b27b-41ba774bcded"
      },
      "source": [
        "df_allUsers.columns"
      ],
      "execution_count": 19,
      "outputs": [
        {
          "output_type": "execute_result",
          "data": {
            "text/plain": [
              "Index(['id', 'name', 'screen_name', 'statuses_count', 'followers_count',\n",
              "       'friends_count', 'favourites_count', 'listed_count', 'created_at',\n",
              "       'url', 'lang', 'time_zone', 'location', 'default_profile',\n",
              "       'default_profile_image', 'geo_enabled', 'profile_image_url',\n",
              "       'profile_banner_url', 'profile_use_background_image',\n",
              "       'profile_background_image_url_https', 'profile_text_color',\n",
              "       'profile_image_url_https', 'profile_sidebar_border_color',\n",
              "       'profile_background_tile', 'profile_sidebar_fill_color',\n",
              "       'profile_background_image_url', 'profile_background_color',\n",
              "       'profile_link_color', 'utc_offset', 'is_translator',\n",
              "       'follow_request_sent', 'protected', 'verified', 'notifications',\n",
              "       'description', 'contributors_enabled', 'following', 'updated', 'isFake',\n",
              "       'timestamp', 'crawled_at', 'test_set_1', 'test_set_2'],\n",
              "      dtype='object')"
            ]
          },
          "metadata": {},
          "execution_count": 19
        }
      ]
    },
    {
      "cell_type": "code",
      "metadata": {
        "id": "rH4pKpTFM0AP"
      },
      "source": [
        "df1=df_allUsers[['id','favourites_count','followers_count','statuses_count','friends_count','default_profile','default_profile_image','profile_use_background_image','utc_offset','listed_count','geo_enabled','lang','isFake']]"
      ],
      "execution_count": 20,
      "outputs": []
    },
    {
      "cell_type": "code",
      "metadata": {
        "id": "CuUHzeVfM0AW",
        "colab": {
          "base_uri": "https://localhost:8080/",
          "height": 333
        },
        "outputId": "4cb413cb-417e-4338-a312-38da2083aa79"
      },
      "source": [
        "df1.head(7)"
      ],
      "execution_count": 55,
      "outputs": [
        {
          "output_type": "execute_result",
          "data": {
            "text/plain": [
              "           id  favourites_count  followers_count  statuses_count  \\\n",
              "0  1361191681              9429             1166           52158   \n",
              "1   311104404                 1                8              38   \n",
              "2    83390456              2791              325            4596   \n",
              "3   595827319               265             1201           24586   \n",
              "4    39220893               351             1201           11688   \n",
              "5  1175899693                 0               13              23   \n",
              "6   616767002                 0               10              23   \n",
              "\n",
              "   friends_count  default_profile  default_profile_image  \\\n",
              "0            893              0.0                    0.0   \n",
              "1            421              1.0                    0.0   \n",
              "2            180              0.0                    0.0   \n",
              "3           1679              1.0                    0.0   \n",
              "4           1191              0.0                    0.0   \n",
              "5            196              1.0                    0.0   \n",
              "6            339              1.0                    0.0   \n",
              "\n",
              "   profile_use_background_image  utc_offset  listed_count  geo_enabled  \\\n",
              "0                           1.0    -14400.0             1          1.0   \n",
              "1                           1.0    -14400.0             0          1.0   \n",
              "2                           1.0         0.0             3          1.0   \n",
              "3                           1.0     36000.0            24          1.0   \n",
              "4                           1.0     43200.0            61          1.0   \n",
              "5                           1.0         0.0             0          0.0   \n",
              "6                           1.0         0.0             0          0.0   \n",
              "\n",
              "   lang_num  \n",
              "0         5  \n",
              "1        18  \n",
              "2         5  \n",
              "3         5  \n",
              "4         5  \n",
              "5         5  \n",
              "6         5  "
            ],
            "text/html": [
              "\n",
              "  <div id=\"df-e7c0f1ed-73b8-4f3a-b12a-53b327f9f74d\">\n",
              "    <div class=\"colab-df-container\">\n",
              "      <div>\n",
              "<style scoped>\n",
              "    .dataframe tbody tr th:only-of-type {\n",
              "        vertical-align: middle;\n",
              "    }\n",
              "\n",
              "    .dataframe tbody tr th {\n",
              "        vertical-align: top;\n",
              "    }\n",
              "\n",
              "    .dataframe thead th {\n",
              "        text-align: right;\n",
              "    }\n",
              "</style>\n",
              "<table border=\"1\" class=\"dataframe\">\n",
              "  <thead>\n",
              "    <tr style=\"text-align: right;\">\n",
              "      <th></th>\n",
              "      <th>id</th>\n",
              "      <th>favourites_count</th>\n",
              "      <th>followers_count</th>\n",
              "      <th>statuses_count</th>\n",
              "      <th>friends_count</th>\n",
              "      <th>default_profile</th>\n",
              "      <th>default_profile_image</th>\n",
              "      <th>profile_use_background_image</th>\n",
              "      <th>utc_offset</th>\n",
              "      <th>listed_count</th>\n",
              "      <th>geo_enabled</th>\n",
              "      <th>lang_num</th>\n",
              "    </tr>\n",
              "  </thead>\n",
              "  <tbody>\n",
              "    <tr>\n",
              "      <th>0</th>\n",
              "      <td>1361191681</td>\n",
              "      <td>9429</td>\n",
              "      <td>1166</td>\n",
              "      <td>52158</td>\n",
              "      <td>893</td>\n",
              "      <td>0.0</td>\n",
              "      <td>0.0</td>\n",
              "      <td>1.0</td>\n",
              "      <td>-14400.0</td>\n",
              "      <td>1</td>\n",
              "      <td>1.0</td>\n",
              "      <td>5</td>\n",
              "    </tr>\n",
              "    <tr>\n",
              "      <th>1</th>\n",
              "      <td>311104404</td>\n",
              "      <td>1</td>\n",
              "      <td>8</td>\n",
              "      <td>38</td>\n",
              "      <td>421</td>\n",
              "      <td>1.0</td>\n",
              "      <td>0.0</td>\n",
              "      <td>1.0</td>\n",
              "      <td>-14400.0</td>\n",
              "      <td>0</td>\n",
              "      <td>1.0</td>\n",
              "      <td>18</td>\n",
              "    </tr>\n",
              "    <tr>\n",
              "      <th>2</th>\n",
              "      <td>83390456</td>\n",
              "      <td>2791</td>\n",
              "      <td>325</td>\n",
              "      <td>4596</td>\n",
              "      <td>180</td>\n",
              "      <td>0.0</td>\n",
              "      <td>0.0</td>\n",
              "      <td>1.0</td>\n",
              "      <td>0.0</td>\n",
              "      <td>3</td>\n",
              "      <td>1.0</td>\n",
              "      <td>5</td>\n",
              "    </tr>\n",
              "    <tr>\n",
              "      <th>3</th>\n",
              "      <td>595827319</td>\n",
              "      <td>265</td>\n",
              "      <td>1201</td>\n",
              "      <td>24586</td>\n",
              "      <td>1679</td>\n",
              "      <td>1.0</td>\n",
              "      <td>0.0</td>\n",
              "      <td>1.0</td>\n",
              "      <td>36000.0</td>\n",
              "      <td>24</td>\n",
              "      <td>1.0</td>\n",
              "      <td>5</td>\n",
              "    </tr>\n",
              "    <tr>\n",
              "      <th>4</th>\n",
              "      <td>39220893</td>\n",
              "      <td>351</td>\n",
              "      <td>1201</td>\n",
              "      <td>11688</td>\n",
              "      <td>1191</td>\n",
              "      <td>0.0</td>\n",
              "      <td>0.0</td>\n",
              "      <td>1.0</td>\n",
              "      <td>43200.0</td>\n",
              "      <td>61</td>\n",
              "      <td>1.0</td>\n",
              "      <td>5</td>\n",
              "    </tr>\n",
              "    <tr>\n",
              "      <th>5</th>\n",
              "      <td>1175899693</td>\n",
              "      <td>0</td>\n",
              "      <td>13</td>\n",
              "      <td>23</td>\n",
              "      <td>196</td>\n",
              "      <td>1.0</td>\n",
              "      <td>0.0</td>\n",
              "      <td>1.0</td>\n",
              "      <td>0.0</td>\n",
              "      <td>0</td>\n",
              "      <td>0.0</td>\n",
              "      <td>5</td>\n",
              "    </tr>\n",
              "    <tr>\n",
              "      <th>6</th>\n",
              "      <td>616767002</td>\n",
              "      <td>0</td>\n",
              "      <td>10</td>\n",
              "      <td>23</td>\n",
              "      <td>339</td>\n",
              "      <td>1.0</td>\n",
              "      <td>0.0</td>\n",
              "      <td>1.0</td>\n",
              "      <td>0.0</td>\n",
              "      <td>0</td>\n",
              "      <td>0.0</td>\n",
              "      <td>5</td>\n",
              "    </tr>\n",
              "  </tbody>\n",
              "</table>\n",
              "</div>\n",
              "      <button class=\"colab-df-convert\" onclick=\"convertToInteractive('df-e7c0f1ed-73b8-4f3a-b12a-53b327f9f74d')\"\n",
              "              title=\"Convert this dataframe to an interactive table.\"\n",
              "              style=\"display:none;\">\n",
              "        \n",
              "  <svg xmlns=\"http://www.w3.org/2000/svg\" height=\"24px\"viewBox=\"0 0 24 24\"\n",
              "       width=\"24px\">\n",
              "    <path d=\"M0 0h24v24H0V0z\" fill=\"none\"/>\n",
              "    <path d=\"M18.56 5.44l.94 2.06.94-2.06 2.06-.94-2.06-.94-.94-2.06-.94 2.06-2.06.94zm-11 1L8.5 8.5l.94-2.06 2.06-.94-2.06-.94L8.5 2.5l-.94 2.06-2.06.94zm10 10l.94 2.06.94-2.06 2.06-.94-2.06-.94-.94-2.06-.94 2.06-2.06.94z\"/><path d=\"M17.41 7.96l-1.37-1.37c-.4-.4-.92-.59-1.43-.59-.52 0-1.04.2-1.43.59L10.3 9.45l-7.72 7.72c-.78.78-.78 2.05 0 2.83L4 21.41c.39.39.9.59 1.41.59.51 0 1.02-.2 1.41-.59l7.78-7.78 2.81-2.81c.8-.78.8-2.07 0-2.86zM5.41 20L4 18.59l7.72-7.72 1.47 1.35L5.41 20z\"/>\n",
              "  </svg>\n",
              "      </button>\n",
              "      \n",
              "  <style>\n",
              "    .colab-df-container {\n",
              "      display:flex;\n",
              "      flex-wrap:wrap;\n",
              "      gap: 12px;\n",
              "    }\n",
              "\n",
              "    .colab-df-convert {\n",
              "      background-color: #E8F0FE;\n",
              "      border: none;\n",
              "      border-radius: 50%;\n",
              "      cursor: pointer;\n",
              "      display: none;\n",
              "      fill: #1967D2;\n",
              "      height: 32px;\n",
              "      padding: 0 0 0 0;\n",
              "      width: 32px;\n",
              "    }\n",
              "\n",
              "    .colab-df-convert:hover {\n",
              "      background-color: #E2EBFA;\n",
              "      box-shadow: 0px 1px 2px rgba(60, 64, 67, 0.3), 0px 1px 3px 1px rgba(60, 64, 67, 0.15);\n",
              "      fill: #174EA6;\n",
              "    }\n",
              "\n",
              "    [theme=dark] .colab-df-convert {\n",
              "      background-color: #3B4455;\n",
              "      fill: #D2E3FC;\n",
              "    }\n",
              "\n",
              "    [theme=dark] .colab-df-convert:hover {\n",
              "      background-color: #434B5C;\n",
              "      box-shadow: 0px 1px 3px 1px rgba(0, 0, 0, 0.15);\n",
              "      filter: drop-shadow(0px 1px 2px rgba(0, 0, 0, 0.3));\n",
              "      fill: #FFFFFF;\n",
              "    }\n",
              "  </style>\n",
              "\n",
              "      <script>\n",
              "        const buttonEl =\n",
              "          document.querySelector('#df-e7c0f1ed-73b8-4f3a-b12a-53b327f9f74d button.colab-df-convert');\n",
              "        buttonEl.style.display =\n",
              "          google.colab.kernel.accessAllowed ? 'block' : 'none';\n",
              "\n",
              "        async function convertToInteractive(key) {\n",
              "          const element = document.querySelector('#df-e7c0f1ed-73b8-4f3a-b12a-53b327f9f74d');\n",
              "          const dataTable =\n",
              "            await google.colab.kernel.invokeFunction('convertToInteractive',\n",
              "                                                     [key], {});\n",
              "          if (!dataTable) return;\n",
              "\n",
              "          const docLinkHtml = 'Like what you see? Visit the ' +\n",
              "            '<a target=\"_blank\" href=https://colab.research.google.com/notebooks/data_table.ipynb>data table notebook</a>'\n",
              "            + ' to learn more about interactive tables.';\n",
              "          element.innerHTML = '';\n",
              "          dataTable['output_type'] = 'display_data';\n",
              "          await google.colab.output.renderOutput(dataTable, element);\n",
              "          const docLink = document.createElement('div');\n",
              "          docLink.innerHTML = docLinkHtml;\n",
              "          element.appendChild(docLink);\n",
              "        }\n",
              "      </script>\n",
              "    </div>\n",
              "  </div>\n",
              "  "
            ]
          },
          "metadata": {},
          "execution_count": 55
        }
      ]
    },
    {
      "cell_type": "code",
      "metadata": {
        "id": "y0C_ajyjM0Aa",
        "colab": {
          "base_uri": "https://localhost:8080/"
        },
        "outputId": "d87d2a23-6c23-4154-846c-38aa33b63898"
      },
      "source": [
        "lang_list = list(enumerate(np.unique(df1[\"lang\"])))\n",
        "lang_dict = {name : i for i, name in lang_list}\n",
        "print(lang_dict)"
      ],
      "execution_count": 22,
      "outputs": [
        {
          "output_type": "stream",
          "name": "stdout",
          "text": [
            "{'Select Language...': 0, 'ar': 1, 'da': 2, 'de': 3, 'el': 4, 'en': 5, 'en-AU': 6, 'en-GB': 7, 'en-gb': 8, 'es': 9, 'fil': 10, 'fr': 11, 'id': 12, 'it': 13, 'ja': 14, 'ko': 15, 'nl': 16, 'pl': 17, 'pt': 18, 'ru': 19, 'sv': 20, 'tr': 21, 'xx-lc': 22, 'zh-TW': 23, 'zh-cn': 24, 'zh-tw': 25}\n"
          ]
        }
      ]
    },
    {
      "cell_type": "code",
      "metadata": {
        "id": "XRBYLwz0M0Af"
      },
      "source": [
        "z=df1.loc[:, \"lang_num\"] = df1[\"lang\"].map(lambda x: lang_dict[x]).astype(int)\n"
      ],
      "execution_count": 23,
      "outputs": []
    },
    {
      "cell_type": "code",
      "metadata": {
        "id": "E1SuDW1nM0Aj"
      },
      "source": [
        "lang_list = list(enumerate(np.unique(df1[\"lang\"])))\n",
        "lang_dict = {name : i for i, name in lang_list}\n",
        "df1.loc[:, \"lang_num\"] = df1[\"lang\"].map(lambda x: lang_dict[x]).astype(int)"
      ],
      "execution_count": 24,
      "outputs": []
    },
    {
      "cell_type": "code",
      "metadata": {
        "id": "DIpLJkhvM0Ao"
      },
      "source": [
        "df1.drop([\"lang\"], axis=1, inplace=True)"
      ],
      "execution_count": 25,
      "outputs": []
    },
    {
      "cell_type": "code",
      "metadata": {
        "id": "6RmEJ42HM0Au"
      },
      "source": [
        "df1.drop([\"isFake\"], axis=1, inplace=True)"
      ],
      "execution_count": 26,
      "outputs": []
    },
    {
      "cell_type": "code",
      "metadata": {
        "id": "n283KmlPM0A6",
        "colab": {
          "base_uri": "https://localhost:8080/",
          "height": 270
        },
        "outputId": "1f7005f9-3dbb-4adf-e139-d1aee94f54e5"
      },
      "source": [
        "df1.head()"
      ],
      "execution_count": 27,
      "outputs": [
        {
          "output_type": "execute_result",
          "data": {
            "text/plain": [
              "           id  favourites_count  followers_count  statuses_count  \\\n",
              "0  1361191681              9429             1166           52158   \n",
              "1   311104404                 1                8              38   \n",
              "2    83390456              2791              325            4596   \n",
              "3   595827319               265             1201           24586   \n",
              "4    39220893               351             1201           11688   \n",
              "\n",
              "   friends_count  default_profile  default_profile_image  \\\n",
              "0            893              NaN                    NaN   \n",
              "1            421              1.0                    NaN   \n",
              "2            180              NaN                    NaN   \n",
              "3           1679              1.0                    NaN   \n",
              "4           1191              NaN                    NaN   \n",
              "\n",
              "   profile_use_background_image  utc_offset  listed_count  geo_enabled  \\\n",
              "0                           1.0    -14400.0             1          1.0   \n",
              "1                           1.0    -14400.0             0          1.0   \n",
              "2                           1.0         NaN             3          1.0   \n",
              "3                           1.0     36000.0            24          1.0   \n",
              "4                           1.0     43200.0            61          1.0   \n",
              "\n",
              "   lang_num  \n",
              "0         5  \n",
              "1        18  \n",
              "2         5  \n",
              "3         5  \n",
              "4         5  "
            ],
            "text/html": [
              "\n",
              "  <div id=\"df-cdb47a5f-aefd-4929-bd27-3d1af2120f11\">\n",
              "    <div class=\"colab-df-container\">\n",
              "      <div>\n",
              "<style scoped>\n",
              "    .dataframe tbody tr th:only-of-type {\n",
              "        vertical-align: middle;\n",
              "    }\n",
              "\n",
              "    .dataframe tbody tr th {\n",
              "        vertical-align: top;\n",
              "    }\n",
              "\n",
              "    .dataframe thead th {\n",
              "        text-align: right;\n",
              "    }\n",
              "</style>\n",
              "<table border=\"1\" class=\"dataframe\">\n",
              "  <thead>\n",
              "    <tr style=\"text-align: right;\">\n",
              "      <th></th>\n",
              "      <th>id</th>\n",
              "      <th>favourites_count</th>\n",
              "      <th>followers_count</th>\n",
              "      <th>statuses_count</th>\n",
              "      <th>friends_count</th>\n",
              "      <th>default_profile</th>\n",
              "      <th>default_profile_image</th>\n",
              "      <th>profile_use_background_image</th>\n",
              "      <th>utc_offset</th>\n",
              "      <th>listed_count</th>\n",
              "      <th>geo_enabled</th>\n",
              "      <th>lang_num</th>\n",
              "    </tr>\n",
              "  </thead>\n",
              "  <tbody>\n",
              "    <tr>\n",
              "      <th>0</th>\n",
              "      <td>1361191681</td>\n",
              "      <td>9429</td>\n",
              "      <td>1166</td>\n",
              "      <td>52158</td>\n",
              "      <td>893</td>\n",
              "      <td>NaN</td>\n",
              "      <td>NaN</td>\n",
              "      <td>1.0</td>\n",
              "      <td>-14400.0</td>\n",
              "      <td>1</td>\n",
              "      <td>1.0</td>\n",
              "      <td>5</td>\n",
              "    </tr>\n",
              "    <tr>\n",
              "      <th>1</th>\n",
              "      <td>311104404</td>\n",
              "      <td>1</td>\n",
              "      <td>8</td>\n",
              "      <td>38</td>\n",
              "      <td>421</td>\n",
              "      <td>1.0</td>\n",
              "      <td>NaN</td>\n",
              "      <td>1.0</td>\n",
              "      <td>-14400.0</td>\n",
              "      <td>0</td>\n",
              "      <td>1.0</td>\n",
              "      <td>18</td>\n",
              "    </tr>\n",
              "    <tr>\n",
              "      <th>2</th>\n",
              "      <td>83390456</td>\n",
              "      <td>2791</td>\n",
              "      <td>325</td>\n",
              "      <td>4596</td>\n",
              "      <td>180</td>\n",
              "      <td>NaN</td>\n",
              "      <td>NaN</td>\n",
              "      <td>1.0</td>\n",
              "      <td>NaN</td>\n",
              "      <td>3</td>\n",
              "      <td>1.0</td>\n",
              "      <td>5</td>\n",
              "    </tr>\n",
              "    <tr>\n",
              "      <th>3</th>\n",
              "      <td>595827319</td>\n",
              "      <td>265</td>\n",
              "      <td>1201</td>\n",
              "      <td>24586</td>\n",
              "      <td>1679</td>\n",
              "      <td>1.0</td>\n",
              "      <td>NaN</td>\n",
              "      <td>1.0</td>\n",
              "      <td>36000.0</td>\n",
              "      <td>24</td>\n",
              "      <td>1.0</td>\n",
              "      <td>5</td>\n",
              "    </tr>\n",
              "    <tr>\n",
              "      <th>4</th>\n",
              "      <td>39220893</td>\n",
              "      <td>351</td>\n",
              "      <td>1201</td>\n",
              "      <td>11688</td>\n",
              "      <td>1191</td>\n",
              "      <td>NaN</td>\n",
              "      <td>NaN</td>\n",
              "      <td>1.0</td>\n",
              "      <td>43200.0</td>\n",
              "      <td>61</td>\n",
              "      <td>1.0</td>\n",
              "      <td>5</td>\n",
              "    </tr>\n",
              "  </tbody>\n",
              "</table>\n",
              "</div>\n",
              "      <button class=\"colab-df-convert\" onclick=\"convertToInteractive('df-cdb47a5f-aefd-4929-bd27-3d1af2120f11')\"\n",
              "              title=\"Convert this dataframe to an interactive table.\"\n",
              "              style=\"display:none;\">\n",
              "        \n",
              "  <svg xmlns=\"http://www.w3.org/2000/svg\" height=\"24px\"viewBox=\"0 0 24 24\"\n",
              "       width=\"24px\">\n",
              "    <path d=\"M0 0h24v24H0V0z\" fill=\"none\"/>\n",
              "    <path d=\"M18.56 5.44l.94 2.06.94-2.06 2.06-.94-2.06-.94-.94-2.06-.94 2.06-2.06.94zm-11 1L8.5 8.5l.94-2.06 2.06-.94-2.06-.94L8.5 2.5l-.94 2.06-2.06.94zm10 10l.94 2.06.94-2.06 2.06-.94-2.06-.94-.94-2.06-.94 2.06-2.06.94z\"/><path d=\"M17.41 7.96l-1.37-1.37c-.4-.4-.92-.59-1.43-.59-.52 0-1.04.2-1.43.59L10.3 9.45l-7.72 7.72c-.78.78-.78 2.05 0 2.83L4 21.41c.39.39.9.59 1.41.59.51 0 1.02-.2 1.41-.59l7.78-7.78 2.81-2.81c.8-.78.8-2.07 0-2.86zM5.41 20L4 18.59l7.72-7.72 1.47 1.35L5.41 20z\"/>\n",
              "  </svg>\n",
              "      </button>\n",
              "      \n",
              "  <style>\n",
              "    .colab-df-container {\n",
              "      display:flex;\n",
              "      flex-wrap:wrap;\n",
              "      gap: 12px;\n",
              "    }\n",
              "\n",
              "    .colab-df-convert {\n",
              "      background-color: #E8F0FE;\n",
              "      border: none;\n",
              "      border-radius: 50%;\n",
              "      cursor: pointer;\n",
              "      display: none;\n",
              "      fill: #1967D2;\n",
              "      height: 32px;\n",
              "      padding: 0 0 0 0;\n",
              "      width: 32px;\n",
              "    }\n",
              "\n",
              "    .colab-df-convert:hover {\n",
              "      background-color: #E2EBFA;\n",
              "      box-shadow: 0px 1px 2px rgba(60, 64, 67, 0.3), 0px 1px 3px 1px rgba(60, 64, 67, 0.15);\n",
              "      fill: #174EA6;\n",
              "    }\n",
              "\n",
              "    [theme=dark] .colab-df-convert {\n",
              "      background-color: #3B4455;\n",
              "      fill: #D2E3FC;\n",
              "    }\n",
              "\n",
              "    [theme=dark] .colab-df-convert:hover {\n",
              "      background-color: #434B5C;\n",
              "      box-shadow: 0px 1px 3px 1px rgba(0, 0, 0, 0.15);\n",
              "      filter: drop-shadow(0px 1px 2px rgba(0, 0, 0, 0.3));\n",
              "      fill: #FFFFFF;\n",
              "    }\n",
              "  </style>\n",
              "\n",
              "      <script>\n",
              "        const buttonEl =\n",
              "          document.querySelector('#df-cdb47a5f-aefd-4929-bd27-3d1af2120f11 button.colab-df-convert');\n",
              "        buttonEl.style.display =\n",
              "          google.colab.kernel.accessAllowed ? 'block' : 'none';\n",
              "\n",
              "        async function convertToInteractive(key) {\n",
              "          const element = document.querySelector('#df-cdb47a5f-aefd-4929-bd27-3d1af2120f11');\n",
              "          const dataTable =\n",
              "            await google.colab.kernel.invokeFunction('convertToInteractive',\n",
              "                                                     [key], {});\n",
              "          if (!dataTable) return;\n",
              "\n",
              "          const docLinkHtml = 'Like what you see? Visit the ' +\n",
              "            '<a target=\"_blank\" href=https://colab.research.google.com/notebooks/data_table.ipynb>data table notebook</a>'\n",
              "            + ' to learn more about interactive tables.';\n",
              "          element.innerHTML = '';\n",
              "          dataTable['output_type'] = 'display_data';\n",
              "          await google.colab.output.renderOutput(dataTable, element);\n",
              "          const docLink = document.createElement('div');\n",
              "          docLink.innerHTML = docLinkHtml;\n",
              "          element.appendChild(docLink);\n",
              "        }\n",
              "      </script>\n",
              "    </div>\n",
              "  </div>\n",
              "  "
            ]
          },
          "metadata": {},
          "execution_count": 27
        }
      ]
    },
    {
      "cell_type": "code",
      "metadata": {
        "id": "JIfz8ogDM0BC",
        "colab": {
          "base_uri": "https://localhost:8080/"
        },
        "outputId": "ab971bfa-0466-443b-e9ce-f9c7503551db"
      },
      "source": [
        "df1.isnull().sum()"
      ],
      "execution_count": 28,
      "outputs": [
        {
          "output_type": "execute_result",
          "data": {
            "text/plain": [
              "id                                 0\n",
              "favourites_count                   0\n",
              "followers_count                    0\n",
              "statuses_count                     0\n",
              "friends_count                      0\n",
              "default_profile                 2759\n",
              "default_profile_image           6806\n",
              "profile_use_background_image     399\n",
              "utc_offset                      4015\n",
              "listed_count                       0\n",
              "geo_enabled                     4531\n",
              "lang_num                           0\n",
              "dtype: int64"
            ]
          },
          "metadata": {},
          "execution_count": 28
        }
      ]
    },
    {
      "cell_type": "code",
      "metadata": {
        "id": "HSe1m7IoM0BQ"
      },
      "source": [
        "df1 = df1.replace(np.nan, 0) #To replace the missing boolean values with zeros as it means false"
      ],
      "execution_count": 29,
      "outputs": []
    },
    {
      "cell_type": "code",
      "metadata": {
        "id": "QQYBtr8BM0BZ",
        "colab": {
          "base_uri": "https://localhost:8080/"
        },
        "outputId": "fcba2c41-b894-4bb6-f58f-02bfd8d74765"
      },
      "source": [
        "df1.isnull().sum()"
      ],
      "execution_count": 30,
      "outputs": [
        {
          "output_type": "execute_result",
          "data": {
            "text/plain": [
              "id                              0\n",
              "favourites_count                0\n",
              "followers_count                 0\n",
              "statuses_count                  0\n",
              "friends_count                   0\n",
              "default_profile                 0\n",
              "default_profile_image           0\n",
              "profile_use_background_image    0\n",
              "utc_offset                      0\n",
              "listed_count                    0\n",
              "geo_enabled                     0\n",
              "lang_num                        0\n",
              "dtype: int64"
            ]
          },
          "metadata": {},
          "execution_count": 30
        }
      ]
    },
    {
      "cell_type": "markdown",
      "metadata": {
        "id": "S73qGfis8Yb5"
      },
      "source": [
        "# Input Data"
      ]
    },
    {
      "cell_type": "code",
      "metadata": {
        "id": "zMxwuGWNM0Be"
      },
      "source": [
        "from sklearn.model_selection import train_test_split\n",
        "X_train, X_test, y_train, y_test = train_test_split(df1, Y, test_size=0.3) # 70% training and 30% test"
      ],
      "execution_count": 31,
      "outputs": []
    },
    {
      "cell_type": "code",
      "metadata": {
        "id": "a3a_-CSCM0Bj",
        "colab": {
          "base_uri": "https://localhost:8080/"
        },
        "outputId": "d1032459-8a65-432a-a64a-1ac224f45f6e"
      },
      "source": [
        "print(X_train.shape)\n",
        "print(X_test.shape)\n",
        "print(y_train.shape)\n",
        "print(y_test.shape)"
      ],
      "execution_count": 32,
      "outputs": [
        {
          "output_type": "stream",
          "name": "stdout",
          "text": [
            "(4777, 12)\n",
            "(2048, 12)\n",
            "(4777,)\n",
            "(2048,)\n"
          ]
        }
      ]
    },
    {
      "cell_type": "code",
      "metadata": {
        "id": "5c1U__ejM0Bp"
      },
      "source": [
        "from sklearn.model_selection import cross_val_score\n",
        "from sklearn.model_selection import ShuffleSplit"
      ],
      "execution_count": 33,
      "outputs": []
    },
    {
      "cell_type": "code",
      "metadata": {
        "id": "tAm8745_M0Bs"
      },
      "source": [
        "cv=ShuffleSplit(n_splits=10,random_state=42,test_size=0.3)"
      ],
      "execution_count": 34,
      "outputs": []
    },
    {
      "cell_type": "markdown",
      "metadata": {
        "id": "T7JAWy69M0Bv"
      },
      "source": [
        "# XGB Classifer"
      ]
    },
    {
      "cell_type": "code",
      "metadata": {
        "id": "H-ypmdagM0Bw",
        "colab": {
          "base_uri": "https://localhost:8080/"
        },
        "outputId": "4e891a5f-d963-4539-96f8-2b9203745e04"
      },
      "source": [
        "from xgboost import XGBClassifier\n",
        "cross_val_score(XGBClassifier(),df1,Y,scoring='accuracy',cv=cv)"
      ],
      "execution_count": 35,
      "outputs": [
        {
          "output_type": "execute_result",
          "data": {
            "text/plain": [
              "array([0.99072266, 0.9921875 , 0.99462891, 0.99267578, 0.99169922,\n",
              "       0.99023438, 0.99414062, 0.99414062, 0.99169922, 0.99511719])"
            ]
          },
          "metadata": {},
          "execution_count": 35
        }
      ]
    },
    {
      "cell_type": "code",
      "metadata": {
        "id": "e05FFgYOM0B0",
        "colab": {
          "base_uri": "https://localhost:8080/"
        },
        "outputId": "80e99e7c-780c-428d-93ad-033b0b2a3958"
      },
      "source": [
        "classifier = XGBClassifier()\n",
        "classifier.fit(X_train, y_train)"
      ],
      "execution_count": 36,
      "outputs": [
        {
          "output_type": "execute_result",
          "data": {
            "text/plain": [
              "XGBClassifier()"
            ]
          },
          "metadata": {},
          "execution_count": 36
        }
      ]
    },
    {
      "cell_type": "code",
      "metadata": {
        "id": "EA8nHzm5M0B6"
      },
      "source": [
        "# make predictions for test data\n",
        "y_pred = classifier.predict(X_test)\n",
        "predictions = [round(value) for value in y_pred]"
      ],
      "execution_count": 37,
      "outputs": []
    },
    {
      "cell_type": "code",
      "metadata": {
        "id": "sp2UiThrM0B9",
        "colab": {
          "base_uri": "https://localhost:8080/"
        },
        "outputId": "3746e413-df39-45ef-fa1f-aa10bc382741"
      },
      "source": [
        "from sklearn.metrics import accuracy_score\n",
        "accuracy = accuracy_score(y_test, predictions)\n",
        "x=accuracy\n",
        "print(\"Accuracy: %.2f%%\" % (accuracy * 100.0))"
      ],
      "execution_count": 38,
      "outputs": [
        {
          "output_type": "stream",
          "name": "stdout",
          "text": [
            "Accuracy: 99.37%\n"
          ]
        }
      ]
    },
    {
      "cell_type": "markdown",
      "metadata": {
        "id": "4zqVbgaiM0CC"
      },
      "source": [
        "# AdaBoost Classifier"
      ]
    },
    {
      "cell_type": "code",
      "metadata": {
        "id": "hxn6Z41OM0CC"
      },
      "source": [
        "from sklearn.ensemble import AdaBoostClassifier\n",
        "classifier = AdaBoostClassifier(n_estimators=50,learning_rate=1)\n",
        "model = classifier.fit(X_train, y_train)\n",
        "y_pred = model.predict(X_test)"
      ],
      "execution_count": 39,
      "outputs": []
    },
    {
      "cell_type": "code",
      "metadata": {
        "id": "sTZPv_59M0CQ",
        "colab": {
          "base_uri": "https://localhost:8080/"
        },
        "outputId": "671f5029-d167-4bd0-bf86-e6af1843caee"
      },
      "source": [
        "from sklearn.metrics import accuracy_score\n",
        "accuracy = accuracy_score(y_test, y_pred)\n",
        "y=accuracy\n",
        "print(\"Accuracy: %.2f%%\" % (accuracy * 100.0))"
      ],
      "execution_count": 40,
      "outputs": [
        {
          "output_type": "stream",
          "name": "stdout",
          "text": [
            "Accuracy: 99.32%\n"
          ]
        }
      ]
    },
    {
      "cell_type": "markdown",
      "metadata": {
        "id": "icVmwduVM0CW"
      },
      "source": [
        "# Decision Tree Classifier"
      ]
    },
    {
      "cell_type": "code",
      "metadata": {
        "id": "HmvLrgMWM0CX"
      },
      "source": [
        "from sklearn.tree import DecisionTreeClassifier # Import Decision Tree Classifier"
      ],
      "execution_count": 41,
      "outputs": []
    },
    {
      "cell_type": "code",
      "metadata": {
        "id": "xKwyKIH0M0Cb",
        "colab": {
          "base_uri": "https://localhost:8080/"
        },
        "outputId": "0af806b3-636d-44db-bfd3-edaad2e16598"
      },
      "source": [
        "from sklearn.ensemble import RandomForestClassifier\n",
        "cross_val_score(DecisionTreeClassifier(),df1,Y,scoring='accuracy',cv=cv)"
      ],
      "execution_count": 42,
      "outputs": [
        {
          "output_type": "execute_result",
          "data": {
            "text/plain": [
              "array([0.98535156, 0.98339844, 0.98876953, 0.98730469, 0.98730469,\n",
              "       0.99023438, 0.98974609, 0.98583984, 0.99169922, 0.99072266])"
            ]
          },
          "metadata": {},
          "execution_count": 42
        }
      ]
    },
    {
      "cell_type": "code",
      "metadata": {
        "id": "paD5VmcwM0Ce"
      },
      "source": [
        "from sklearn.preprocessing import StandardScaler\n",
        "sc = StandardScaler()\n",
        "X_train = sc.fit_transform(X_train)\n",
        "X_test = sc.transform(X_test)"
      ],
      "execution_count": 43,
      "outputs": []
    },
    {
      "cell_type": "code",
      "metadata": {
        "id": "bT2j1XijM0Ck"
      },
      "source": [
        "# Create Decision Tree classifer object\n",
        "classifier = DecisionTreeClassifier()\n",
        "# Train Decision Tree Classifer\n",
        "classifier = classifier.fit(X_train,y_train)\n",
        "#Predict the response for test dataset\n",
        "y_pred = classifier.predict(X_test)"
      ],
      "execution_count": 44,
      "outputs": []
    },
    {
      "cell_type": "code",
      "metadata": {
        "id": "bA8DxrsHM0Co",
        "colab": {
          "base_uri": "https://localhost:8080/"
        },
        "outputId": "800876a6-4391-44f1-d94c-bded368d3e4a"
      },
      "source": [
        "from sklearn.metrics import accuracy_score\n",
        "accuracy = accuracy_score(y_test, predictions)\n",
        "z=accuracy\n",
        "print(\"Accuracy: %.2f%%\" % (accuracy * 100.0))"
      ],
      "execution_count": 45,
      "outputs": [
        {
          "output_type": "stream",
          "name": "stdout",
          "text": [
            "Accuracy: 99.37%\n"
          ]
        }
      ]
    },
    {
      "cell_type": "markdown",
      "metadata": {
        "id": "If9GYiIDM0Cu"
      },
      "source": [
        "# Random Forest Classifier"
      ]
    },
    {
      "cell_type": "code",
      "metadata": {
        "id": "69CMUvf0M0Cu",
        "colab": {
          "base_uri": "https://localhost:8080/"
        },
        "outputId": "07bd080f-7d7a-4c33-e808-b86daea6ef11"
      },
      "source": [
        "from sklearn.ensemble import RandomForestClassifier\n",
        "cross_val_score(RandomForestClassifier(),df1,Y,scoring='accuracy',cv=cv)"
      ],
      "execution_count": 46,
      "outputs": [
        {
          "output_type": "execute_result",
          "data": {
            "text/plain": [
              "array([0.99414062, 0.99121094, 0.99414062, 0.99365234, 0.99121094,\n",
              "       0.99072266, 0.99414062, 0.99414062, 0.9921875 , 0.99462891])"
            ]
          },
          "metadata": {},
          "execution_count": 46
        }
      ]
    },
    {
      "cell_type": "code",
      "metadata": {
        "id": "Lkl-smDRM0Cy"
      },
      "source": [
        "#Import Random Forest Model\n",
        "from sklearn.ensemble import RandomForestClassifier\n",
        "#Create a Gaussian Classifier\n",
        "classifier=RandomForestClassifier(n_estimators=100)\n",
        "#Train the model using the training sets y_pred=clf.predict(X_test)\n",
        "classifier.fit(X_train,y_train)\n",
        "y_pred=classifier.predict(X_test)"
      ],
      "execution_count": 47,
      "outputs": []
    },
    {
      "cell_type": "code",
      "metadata": {
        "id": "5ybnIjaRM0C2",
        "colab": {
          "base_uri": "https://localhost:8080/"
        },
        "outputId": "4e06daff-8a9d-409d-91a6-4b079dd86a73"
      },
      "source": [
        "from sklearn.metrics import accuracy_score\n",
        "accuracy = accuracy_score(y_test, y_pred)\n",
        "c=accuracy\n",
        "print(\"Accuracy: %.2f%%\" % (accuracy * 100.0))"
      ],
      "execution_count": 48,
      "outputs": [
        {
          "output_type": "stream",
          "name": "stdout",
          "text": [
            "Accuracy: 99.46%\n"
          ]
        }
      ]
    },
    {
      "cell_type": "code",
      "metadata": {
        "id": "MNLt_ecIM0C8"
      },
      "source": [
        "import sklearn\n",
        "from sklearn import ensemble\n",
        "from sklearn import tree\n",
        "from sklearn import svm\n",
        "\n",
        "import seaborn as sns\n",
        "\n",
        "model = [\n",
        "    ensemble.AdaBoostClassifier(),\n",
        "    ensemble.RandomForestClassifier(),     \n",
        "    tree.DecisionTreeClassifier(),\n",
        "    ensemble.ExtraTreesClassifier(),\n",
        "    svm.SVC(probability=True),\n",
        "    svm.LinearSVC(),\n",
        "    \n",
        "    ]"
      ],
      "execution_count": 49,
      "outputs": []
    },
    {
      "cell_type": "code",
      "metadata": {
        "id": "oq13Q29KM0DB",
        "colab": {
          "base_uri": "https://localhost:8080/",
          "height": 81
        },
        "outputId": "df119a0a-08a8-474d-fb25-2d620235b25e"
      },
      "source": [
        "from sklearn.metrics import precision_score,recall_score\n",
        "from sklearn import metrics\n",
        "model_columns = []\n",
        "model_compare = pd.DataFrame(columns = model_columns)\n",
        "\n",
        "row_index = 0\n",
        "for alg in model: \n",
        "    predicted = alg.fit(X_train, y_train).predict(X_test)\n",
        "    model_compare.loc[row_index, 'model Test Accuracy'] = round(alg.score(X_test, y_test), 4)\n",
        "    model_compare.loc[row_index, 'model Precission'] = precision_score(y_test, predicted)\n",
        "    model_compare.loc[row_index, 'model Recall'] = recall_score(y_test, predicted)\n",
        "    \n",
        "model_compare.sort_values(by = ['model Test Accuracy'], ascending = False, inplace = True)    \n",
        "model_compare"
      ],
      "execution_count": 50,
      "outputs": [
        {
          "output_type": "execute_result",
          "data": {
            "text/plain": [
              "   model Test Accuracy  model Precission  model Recall\n",
              "0               0.9688          0.952425      0.987427"
            ],
            "text/html": [
              "\n",
              "  <div id=\"df-21f97e5c-3608-4699-8f0e-7dd8f9e462a4\">\n",
              "    <div class=\"colab-df-container\">\n",
              "      <div>\n",
              "<style scoped>\n",
              "    .dataframe tbody tr th:only-of-type {\n",
              "        vertical-align: middle;\n",
              "    }\n",
              "\n",
              "    .dataframe tbody tr th {\n",
              "        vertical-align: top;\n",
              "    }\n",
              "\n",
              "    .dataframe thead th {\n",
              "        text-align: right;\n",
              "    }\n",
              "</style>\n",
              "<table border=\"1\" class=\"dataframe\">\n",
              "  <thead>\n",
              "    <tr style=\"text-align: right;\">\n",
              "      <th></th>\n",
              "      <th>model Test Accuracy</th>\n",
              "      <th>model Precission</th>\n",
              "      <th>model Recall</th>\n",
              "    </tr>\n",
              "  </thead>\n",
              "  <tbody>\n",
              "    <tr>\n",
              "      <th>0</th>\n",
              "      <td>0.9688</td>\n",
              "      <td>0.952425</td>\n",
              "      <td>0.987427</td>\n",
              "    </tr>\n",
              "  </tbody>\n",
              "</table>\n",
              "</div>\n",
              "      <button class=\"colab-df-convert\" onclick=\"convertToInteractive('df-21f97e5c-3608-4699-8f0e-7dd8f9e462a4')\"\n",
              "              title=\"Convert this dataframe to an interactive table.\"\n",
              "              style=\"display:none;\">\n",
              "        \n",
              "  <svg xmlns=\"http://www.w3.org/2000/svg\" height=\"24px\"viewBox=\"0 0 24 24\"\n",
              "       width=\"24px\">\n",
              "    <path d=\"M0 0h24v24H0V0z\" fill=\"none\"/>\n",
              "    <path d=\"M18.56 5.44l.94 2.06.94-2.06 2.06-.94-2.06-.94-.94-2.06-.94 2.06-2.06.94zm-11 1L8.5 8.5l.94-2.06 2.06-.94-2.06-.94L8.5 2.5l-.94 2.06-2.06.94zm10 10l.94 2.06.94-2.06 2.06-.94-2.06-.94-.94-2.06-.94 2.06-2.06.94z\"/><path d=\"M17.41 7.96l-1.37-1.37c-.4-.4-.92-.59-1.43-.59-.52 0-1.04.2-1.43.59L10.3 9.45l-7.72 7.72c-.78.78-.78 2.05 0 2.83L4 21.41c.39.39.9.59 1.41.59.51 0 1.02-.2 1.41-.59l7.78-7.78 2.81-2.81c.8-.78.8-2.07 0-2.86zM5.41 20L4 18.59l7.72-7.72 1.47 1.35L5.41 20z\"/>\n",
              "  </svg>\n",
              "      </button>\n",
              "      \n",
              "  <style>\n",
              "    .colab-df-container {\n",
              "      display:flex;\n",
              "      flex-wrap:wrap;\n",
              "      gap: 12px;\n",
              "    }\n",
              "\n",
              "    .colab-df-convert {\n",
              "      background-color: #E8F0FE;\n",
              "      border: none;\n",
              "      border-radius: 50%;\n",
              "      cursor: pointer;\n",
              "      display: none;\n",
              "      fill: #1967D2;\n",
              "      height: 32px;\n",
              "      padding: 0 0 0 0;\n",
              "      width: 32px;\n",
              "    }\n",
              "\n",
              "    .colab-df-convert:hover {\n",
              "      background-color: #E2EBFA;\n",
              "      box-shadow: 0px 1px 2px rgba(60, 64, 67, 0.3), 0px 1px 3px 1px rgba(60, 64, 67, 0.15);\n",
              "      fill: #174EA6;\n",
              "    }\n",
              "\n",
              "    [theme=dark] .colab-df-convert {\n",
              "      background-color: #3B4455;\n",
              "      fill: #D2E3FC;\n",
              "    }\n",
              "\n",
              "    [theme=dark] .colab-df-convert:hover {\n",
              "      background-color: #434B5C;\n",
              "      box-shadow: 0px 1px 3px 1px rgba(0, 0, 0, 0.15);\n",
              "      filter: drop-shadow(0px 1px 2px rgba(0, 0, 0, 0.3));\n",
              "      fill: #FFFFFF;\n",
              "    }\n",
              "  </style>\n",
              "\n",
              "      <script>\n",
              "        const buttonEl =\n",
              "          document.querySelector('#df-21f97e5c-3608-4699-8f0e-7dd8f9e462a4 button.colab-df-convert');\n",
              "        buttonEl.style.display =\n",
              "          google.colab.kernel.accessAllowed ? 'block' : 'none';\n",
              "\n",
              "        async function convertToInteractive(key) {\n",
              "          const element = document.querySelector('#df-21f97e5c-3608-4699-8f0e-7dd8f9e462a4');\n",
              "          const dataTable =\n",
              "            await google.colab.kernel.invokeFunction('convertToInteractive',\n",
              "                                                     [key], {});\n",
              "          if (!dataTable) return;\n",
              "\n",
              "          const docLinkHtml = 'Like what you see? Visit the ' +\n",
              "            '<a target=\"_blank\" href=https://colab.research.google.com/notebooks/data_table.ipynb>data table notebook</a>'\n",
              "            + ' to learn more about interactive tables.';\n",
              "          element.innerHTML = '';\n",
              "          dataTable['output_type'] = 'display_data';\n",
              "          await google.colab.output.renderOutput(dataTable, element);\n",
              "          const docLink = document.createElement('div');\n",
              "          docLink.innerHTML = docLinkHtml;\n",
              "          element.appendChild(docLink);\n",
              "        }\n",
              "      </script>\n",
              "    </div>\n",
              "  </div>\n",
              "  "
            ]
          },
          "metadata": {},
          "execution_count": 50
        }
      ]
    },
    {
      "cell_type": "code",
      "metadata": {
        "id": "R0t2rWMiM0DH"
      },
      "source": [
        "import matplotlib.pyplot as plt\n",
        "%matplotlib inline\n",
        "# plt.figure(figsize=[10,8])\n",
        "\n",
        "# plt.bar(model, width = 0.5, color='#0504aa',alpha=0.7)\n",
        "# plt.ylim([0.85,1])\n",
        "# plt.grid(axis='y', alpha=0.75)\n",
        "# plt.xlabel('Value')\n",
        "# plt.ylabel('Frequency')\n",
        "# plt.xticks(fontsize=15)\n",
        "# plt.yticks(fontsize=15)\n",
        "# plt.ylabel('Frequency',fontsize=15)\n",
        "# plt.title('Normal Distribution Histogram')\n",
        "# plt.show()"
      ],
      "execution_count": 51,
      "outputs": []
    },
    {
      "cell_type": "code",
      "metadata": {
        "id": "YbmWgwQ-M0DN",
        "colab": {
          "base_uri": "https://localhost:8080/",
          "height": 413
        },
        "outputId": "e96758ce-f8d0-4dfc-b45c-2a7e6e4e0b3e"
      },
      "source": [
        "plt.subplots(figsize=(8,5))\n",
        "data=[]\n",
        "data.append(x)\n",
        "data.append(y)\n",
        "data.append(0.994)\n",
        "data.append(c)\n",
        "label=['XG BOOST','ADA BOOST','DECISION TREE','RANDOM FOREST']\n",
        "sns.barplot(label,data,palette='hot',edgecolor=sns.color_palette('dark',7))\n",
        "plt.xticks(rotation=90)\n",
        "plt.ylim([0.97,1])\n",
        "plt.title('model Acurracy Comparison')\n",
        "plt.show()"
      ],
      "execution_count": 52,
      "outputs": [
        {
          "output_type": "display_data",
          "data": {
            "text/plain": [
              "<Figure size 576x360 with 1 Axes>"
            ],
            "image/png": "[encoded data removed]"
          },
          "metadata": {
            "needs_background": "light"
          }
        }
      ]
    },
    {
      "cell_type": "code",
      "metadata": {
        "id": "inGqBVf2M0DU",
        "colab": {
          "base_uri": "https://localhost:8080/",
          "height": 483
        },
        "outputId": "99d5f96c-099b-49a7-8cda-fa3f6b0e3d66"
      },
      "source": [
        "plt.subplots(figsize=(15,6))\n",
        "sns.barplot(data=model_compare,palette='hot',edgecolor=sns.color_palette('OrRd',9))\n",
        "plt.xticks(rotation=90)\n",
        "plt.ylim([0.85,1])\n",
        "plt.title('model Recall Comparison')\n",
        "plt.show()\n",
        "# 'Accent', 'Accent_r', 'Blues', 'Blues_r', 'BrBG', 'BrBG_r', 'BuGn', 'BuGn_r', 'BuPu', 'BuPu_r', 'CMRmap', 'CMRmap_r', 'Dark2', 'Dark2_r', 'GnBu', 'GnBu_r', 'Greens', 'Greens_r', 'Greys', 'Greys_r', 'OrRd', 'OrRd_r', 'Oranges', 'Oranges_r', 'PRGn', 'PRGn_r', 'Paired', 'Paired_r', 'Pastel1', 'Pastel1_r', 'Pastel2', 'Pastel2_r', 'PiYG', 'PiYG_r', 'PuBu', 'PuBuGn', 'PuBuGn_r', 'PuBu_r', 'PuOr', 'PuOr_r', 'PuRd', 'PuRd_r', 'Purples', 'Purples_r', 'RdBu', 'RdBu_r', 'RdGy', 'RdGy_r', 'RdPu', 'RdPu_r', 'RdYlBu', 'RdYlBu_r', 'RdYlGn', 'RdYlGn_r', 'Reds', 'Reds_r', 'Set1', 'Set1_r', 'Set2', 'Set2_r', 'Set3', 'Set3_r', 'Spectral', 'Spectral_r', 'Wistia', 'Wistia_r', 'YlGn', 'YlGnBu', 'YlGnBu_r', 'YlGn_r', 'YlOrBr', 'YlOrBr_r', 'YlOrRd', 'YlOrRd_r', 'afmhot', 'afmhot_r', 'autumn', 'autumn_r', 'binary', 'binary_r', 'bone', 'bone_r', 'brg', 'brg_r', 'bwr', 'bwr_r', 'cividis', 'cividis_r', 'cool', 'cool_r', 'coolwarm', 'coolwarm_r', 'copper', 'copper_r', 'cubehelix', 'cubehelix_r', 'flag', 'flag_r', 'gist_earth', 'gist_earth_r', 'gist_gray', 'gist_gray_r', 'gist_heat', 'gist_heat_r', 'gist_ncar', 'gist_ncar_r', 'gist_rainbow', 'gist_rainbow_r', 'gist_stern', 'gist_stern_r', 'gist_yarg', 'gist_yarg_r', 'gnuplot', 'gnuplot2', 'gnuplot2_r', 'gnuplot_r', 'gray', 'gray_r', 'hot', 'hot_r', 'hsv', 'hsv_r', 'icefire', 'icefire_r', 'inferno', 'inferno_r', 'jet', 'jet_r', 'magma', 'magma_r', 'mako', 'mako_r', 'nipy_..."
      ],
      "execution_count": 53,
      "outputs": [
        {
          "output_type": "display_data",
          "data": {
            "text/plain": [
              "<Figure size 1080x432 with 1 Axes>"
            ],
            "image/png": "[encoded data removed]"
          },
          "metadata": {
            "needs_background": "light"
          }
        }
      ]
    },
    {
      "cell_type": "code",
      "metadata": {
        "id": "jRzTfI1VM0DX"
      },
      "source": [
        "# index = 1\n",
        "# for alg in model:\n",
        "#     predicted = alg.fit(X_train, y_train).predict(X_test)\n",
        "#     roc_auc_model = metrics.auc(fp, tp)\n",
        "#     model_name = alg.__class__.__name__\n",
        "#     plt.plot(fp, tp, lw=2, alpha=0.3, label='ROC %s (AUC = %0.2f)'  % (model_name, roc_auc_model))\n",
        "\n",
        "# plt.title('ROC Curve comparison')\n",
        "# plt.legend(bbox_to_anchor=(1.05, 1), loc=2, borderaxespad=0.)\n",
        "# plt.xlim([0,1])\n",
        "# plt.ylim([0,1])\n",
        "# plt.ylabel('True Positive Rate')\n",
        "# plt.xlabel('False Positive Rate')    \n",
        "# plt.show()"
      ],
      "execution_count": 54,
      "outputs": []
    },
    {
      "cell_type": "code",
      "metadata": {
        "id": "zOLQji-EOJ4u"
      },
      "source": [
        ""
      ],
      "execution_count": 54,
      "outputs": []
    }
  ]
}